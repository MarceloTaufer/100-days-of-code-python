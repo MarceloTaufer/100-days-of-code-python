{
 "cells": [
  {
   "cell_type": "markdown",
   "metadata": {
    "id": "4q6Z8m5n63db"
   },
   "source": [
    "# Setup and Context\n",
    "\n",
    "<img src=\"https://i.imgur.com/gugIA5r.png\" width=700>"
   ]
  },
  {
   "cell_type": "markdown",
   "metadata": {
    "dc": {
     "key": "13f090f9f0"
    },
    "id": "IGsVeQXb63dd",
    "run_control": {
     "frozen": true
    },
    "tags": [
     "context"
    ]
   },
   "source": [
    "### Introduction\n",
    "\n",
    "Dr Ignaz Semmelweis was a Hungarian physician born in 1818 who worked in the Vienna General Hospital. In the past people thought of illness as caused by \"bad air\" or evil spirits. But in the 1800s Doctors started looking more at anatomy, doing autopsies and started making arguments based on data. Dr Semmelweis suspected that something was going wrong with the procedures at Vienna General Hospital. Semmelweis wanted to figure out why so many women in maternity wards were dying from childbed fever (i.e., [puerperal fever](https://en.wikipedia.org/wiki/Postpartum_infections)).\n",
    "\n",
    "<img src=https://i.imgur.com/lSyNUwR.png width=700>\n",
    "\n",
    "Today you will become Dr Semmelweis. This is your office 👆. You will step into Dr Semmelweis' shoes and analyse the same data collected from 1841 to 1849."
   ]
  },
  {
   "cell_type": "markdown",
   "metadata": {
    "id": "bafSbGVG63dd"
   },
   "source": [
    "### The Data Source\n",
    "\n",
    "Dr Semmelweis published his research in 1861. I found the scanned pages of the [full text with the original tables in German](http://www.deutschestextarchiv.de/book/show/semmelweis_kindbettfieber_1861), but an excellent [English translation can be found here](http://graphics8.nytimes.com/images/blogs/freakonomics/pdf/the%20etiology,%20concept%20and%20prophylaxis%20of%20childbed%20fever.pdf).\n",
    "\n",
    "<img src=https://i.imgur.com/6HfLtaC.png width=500>"
   ]
  },
  {
   "cell_type": "markdown",
   "metadata": {
    "id": "eL-9yKkvNr6N"
   },
   "source": [
    "### Upgrade plotly (only Google Colab Notebook)\n",
    "\n",
    "Google Colab may not be running the latest version of plotly. If you're working in Google Colab, uncomment the line below, run the cell, and restart your notebook server. "
   ]
  },
  {
   "cell_type": "code",
   "execution_count": null,
   "metadata": {
    "id": "eEEIIlY3N0oD"
   },
   "outputs": [],
   "source": [
    "# %pip install --upgrade plotly"
   ]
  },
  {
   "cell_type": "markdown",
   "metadata": {
    "id": "nF_Ci_SA63dd"
   },
   "source": [
    "### Import Statements"
   ]
  },
  {
   "cell_type": "code",
   "execution_count": 1,
   "metadata": {
    "id": "kNoOuCg563de"
   },
   "outputs": [],
   "source": [
    "import pandas as pd\n",
    "import numpy as np\n",
    "import plotly.express as px\n",
    "import seaborn as sns\n",
    "import matplotlib.pyplot as plt\n",
    "import matplotlib.dates as mdates"
   ]
  },
  {
   "cell_type": "markdown",
   "metadata": {
    "id": "PcWO2FOi63di"
   },
   "source": [
    "### Notebook Presentation"
   ]
  },
  {
   "cell_type": "code",
   "execution_count": 47,
   "metadata": {
    "id": "YV7Y4mhp63dj"
   },
   "outputs": [],
   "source": [
    "pd.options.display.float_format = '{:,.2f}'.format\n",
    "\n",
    "# Create locators for ticks on the time axis\n",
    "years = mdates.YearLocator()\n",
    "months = mdates.MonthLocator()\n",
    "years_fmt = mdates.DateFormatter('%Y')\n",
    "\n",
    "from pandas.plotting import register_matplotlib_converters\n",
    "register_matplotlib_converters()"
   ]
  },
  {
   "cell_type": "markdown",
   "metadata": {
    "id": "rp8Dqfp663dg"
   },
   "source": [
    "### Read the Data"
   ]
  },
  {
   "cell_type": "code",
   "execution_count": 3,
   "metadata": {
    "id": "Wdr6_0pk63dh"
   },
   "outputs": [],
   "source": [
    "df_yearly = pd.read_csv('annual_deaths_by_clinic.csv')\n",
    "# parse_dates avoids DateTime conversion later\n",
    "df_monthly = pd.read_csv('monthly_deaths.csv', \n",
    "                      parse_dates=['date'])"
   ]
  },
  {
   "cell_type": "markdown",
   "metadata": {
    "id": "C8ZLkXkk63dl"
   },
   "source": [
    "# Preliminary Data Exploration\n",
    "\n",
    "**Challenge**: Check out these two DataFrames ☝️. \n",
    "* What is the shape of df_yearly and df_monthly? How many rows and columns?\n",
    "* What are the column names?\n",
    "* Which years are included in the dataset?\n",
    "* Are there any NaN values or duplicates?\n",
    "* What were the average number of births that took place per month?\n",
    "* What were the average number of deaths that took place per month?"
   ]
  },
  {
   "cell_type": "code",
   "execution_count": 6,
   "metadata": {
    "id": "CDYyshRAHySR"
   },
   "outputs": [
    {
     "name": "stdout",
     "output_type": "stream",
     "text": [
      "The shape of df_yearly is (12, 4), with 12 rows and 4 columns.\n",
      "The shape of df_monthly is (98, 3), with 98 rows and 3 columns.\n"
     ]
    }
   ],
   "source": [
    "# Shape\n",
    "print(f'The shape of df_yearly is {df_yearly.shape}, with {df_yearly.shape[0]} rows and {df_yearly.shape[1]} columns.')\n",
    "print(f'The shape of df_monthly is {df_monthly.shape}, with {df_monthly.shape[0]} rows and {df_monthly.shape[1]} columns.')"
   ]
  },
  {
   "cell_type": "code",
   "execution_count": 8,
   "metadata": {
    "id": "0CmnKF4_Hyg0"
   },
   "outputs": [
    {
     "name": "stdout",
     "output_type": "stream",
     "text": [
      "Index(['year', 'births', 'deaths', 'clinic'], dtype='object')\n",
      "Index(['date', 'births', 'deaths'], dtype='object')\n"
     ]
    }
   ],
   "source": [
    "# Column names\n",
    "print(df_yearly.columns)\n",
    "print(df_monthly.columns)"
   ]
  },
  {
   "cell_type": "code",
   "execution_count": 10,
   "metadata": {},
   "outputs": [
    {
     "data": {
      "text/plain": [
       "array([1841, 1842, 1843, 1844, 1845, 1846])"
      ]
     },
     "execution_count": 10,
     "metadata": {},
     "output_type": "execute_result"
    }
   ],
   "source": [
    "# Which years are included\n",
    "df_yearly.year.unique()"
   ]
  },
  {
   "cell_type": "markdown",
   "metadata": {
    "id": "yiZF9Tat63dq"
   },
   "source": [
    "### Check for Nan Values and Duplicates"
   ]
  },
  {
   "cell_type": "code",
   "execution_count": 24,
   "metadata": {
    "id": "xdyyfk2oH0Ab"
   },
   "outputs": [
    {
     "name": "stdout",
     "output_type": "stream",
     "text": [
      "The number of Nan in df_yearly is 0.\n",
      "\n",
      "The number of Nan in df_monthly is 0.\n",
      "\n",
      "The number of Duplicates in df_yearly is 0.\n",
      "\n",
      "The number of Duplicates in df_monthly is 0.\n"
     ]
    }
   ],
   "source": [
    "# NaN\n",
    "print(f'The number of Nan in df_yearly is {df_yearly.isna().sum().sum()}.\\n')\n",
    "print(f'The number of Nan in df_monthly is {df_monthly.isna().sum().sum()}.\\n')\n",
    "\n",
    "print(f'The number of Duplicates in df_yearly is {df_yearly.duplicated().sum().sum()}.\\n')\n",
    "print(f'The number of Duplicates in df_monthly is {df_monthly.duplicated().sum().sum()}.')"
   ]
  },
  {
   "cell_type": "markdown",
   "metadata": {
    "id": "Y6RkTaM463dz"
   },
   "source": [
    "### Descriptive Statistics"
   ]
  },
  {
   "cell_type": "code",
   "execution_count": 27,
   "metadata": {
    "id": "8emz_sBZH2GL"
   },
   "outputs": [
    {
     "data": {
      "text/html": [
       "<div>\n",
       "<style scoped>\n",
       "    .dataframe tbody tr th:only-of-type {\n",
       "        vertical-align: middle;\n",
       "    }\n",
       "\n",
       "    .dataframe tbody tr th {\n",
       "        vertical-align: top;\n",
       "    }\n",
       "\n",
       "    .dataframe thead th {\n",
       "        text-align: right;\n",
       "    }\n",
       "</style>\n",
       "<table border=\"1\" class=\"dataframe\">\n",
       "  <thead>\n",
       "    <tr style=\"text-align: right;\">\n",
       "      <th></th>\n",
       "      <th>year</th>\n",
       "      <th>births</th>\n",
       "      <th>deaths</th>\n",
       "    </tr>\n",
       "  </thead>\n",
       "  <tbody>\n",
       "    <tr>\n",
       "      <th>count</th>\n",
       "      <td>12.00</td>\n",
       "      <td>12.00</td>\n",
       "      <td>12.00</td>\n",
       "    </tr>\n",
       "    <tr>\n",
       "      <th>mean</th>\n",
       "      <td>1,843.50</td>\n",
       "      <td>3,152.75</td>\n",
       "      <td>223.33</td>\n",
       "    </tr>\n",
       "    <tr>\n",
       "      <th>std</th>\n",
       "      <td>1.78</td>\n",
       "      <td>449.08</td>\n",
       "      <td>145.38</td>\n",
       "    </tr>\n",
       "    <tr>\n",
       "      <th>min</th>\n",
       "      <td>1,841.00</td>\n",
       "      <td>2,442.00</td>\n",
       "      <td>66.00</td>\n",
       "    </tr>\n",
       "    <tr>\n",
       "      <th>25%</th>\n",
       "      <td>1,842.00</td>\n",
       "      <td>2,901.75</td>\n",
       "      <td>100.25</td>\n",
       "    </tr>\n",
       "    <tr>\n",
       "      <th>50%</th>\n",
       "      <td>1,843.50</td>\n",
       "      <td>3,108.50</td>\n",
       "      <td>219.50</td>\n",
       "    </tr>\n",
       "    <tr>\n",
       "      <th>75%</th>\n",
       "      <td>1,845.00</td>\n",
       "      <td>3,338.25</td>\n",
       "      <td>263.50</td>\n",
       "    </tr>\n",
       "    <tr>\n",
       "      <th>max</th>\n",
       "      <td>1,846.00</td>\n",
       "      <td>4,010.00</td>\n",
       "      <td>518.00</td>\n",
       "    </tr>\n",
       "  </tbody>\n",
       "</table>\n",
       "</div>"
      ],
      "text/plain": [
       "          year   births  deaths\n",
       "count    12.00    12.00   12.00\n",
       "mean  1,843.50 3,152.75  223.33\n",
       "std       1.78   449.08  145.38\n",
       "min   1,841.00 2,442.00   66.00\n",
       "25%   1,842.00 2,901.75  100.25\n",
       "50%   1,843.50 3,108.50  219.50\n",
       "75%   1,845.00 3,338.25  263.50\n",
       "max   1,846.00 4,010.00  518.00"
      ]
     },
     "execution_count": 27,
     "metadata": {},
     "output_type": "execute_result"
    }
   ],
   "source": [
    "df_yearly.describe()"
   ]
  },
  {
   "cell_type": "code",
   "execution_count": 26,
   "metadata": {},
   "outputs": [
    {
     "data": {
      "text/html": [
       "<div>\n",
       "<style scoped>\n",
       "    .dataframe tbody tr th:only-of-type {\n",
       "        vertical-align: middle;\n",
       "    }\n",
       "\n",
       "    .dataframe tbody tr th {\n",
       "        vertical-align: top;\n",
       "    }\n",
       "\n",
       "    .dataframe thead th {\n",
       "        text-align: right;\n",
       "    }\n",
       "</style>\n",
       "<table border=\"1\" class=\"dataframe\">\n",
       "  <thead>\n",
       "    <tr style=\"text-align: right;\">\n",
       "      <th></th>\n",
       "      <th>births</th>\n",
       "      <th>deaths</th>\n",
       "    </tr>\n",
       "  </thead>\n",
       "  <tbody>\n",
       "    <tr>\n",
       "      <th>count</th>\n",
       "      <td>98.00</td>\n",
       "      <td>98.00</td>\n",
       "    </tr>\n",
       "    <tr>\n",
       "      <th>mean</th>\n",
       "      <td>267.00</td>\n",
       "      <td>22.47</td>\n",
       "    </tr>\n",
       "    <tr>\n",
       "      <th>std</th>\n",
       "      <td>41.77</td>\n",
       "      <td>18.14</td>\n",
       "    </tr>\n",
       "    <tr>\n",
       "      <th>min</th>\n",
       "      <td>190.00</td>\n",
       "      <td>0.00</td>\n",
       "    </tr>\n",
       "    <tr>\n",
       "      <th>25%</th>\n",
       "      <td>242.50</td>\n",
       "      <td>8.00</td>\n",
       "    </tr>\n",
       "    <tr>\n",
       "      <th>50%</th>\n",
       "      <td>264.00</td>\n",
       "      <td>16.50</td>\n",
       "    </tr>\n",
       "    <tr>\n",
       "      <th>75%</th>\n",
       "      <td>292.75</td>\n",
       "      <td>36.75</td>\n",
       "    </tr>\n",
       "    <tr>\n",
       "      <th>max</th>\n",
       "      <td>406.00</td>\n",
       "      <td>75.00</td>\n",
       "    </tr>\n",
       "  </tbody>\n",
       "</table>\n",
       "</div>"
      ],
      "text/plain": [
       "       births  deaths\n",
       "count   98.00   98.00\n",
       "mean   267.00   22.47\n",
       "std     41.77   18.14\n",
       "min    190.00    0.00\n",
       "25%    242.50    8.00\n",
       "50%    264.00   16.50\n",
       "75%    292.75   36.75\n",
       "max    406.00   75.00"
      ]
     },
     "execution_count": 26,
     "metadata": {},
     "output_type": "execute_result"
    }
   ],
   "source": [
    "df_monthly.describe()"
   ]
  },
  {
   "cell_type": "code",
   "execution_count": 28,
   "metadata": {},
   "outputs": [
    {
     "data": {
      "text/html": [
       "<div>\n",
       "<style scoped>\n",
       "    .dataframe tbody tr th:only-of-type {\n",
       "        vertical-align: middle;\n",
       "    }\n",
       "\n",
       "    .dataframe tbody tr th {\n",
       "        vertical-align: top;\n",
       "    }\n",
       "\n",
       "    .dataframe thead th {\n",
       "        text-align: right;\n",
       "    }\n",
       "</style>\n",
       "<table border=\"1\" class=\"dataframe\">\n",
       "  <thead>\n",
       "    <tr style=\"text-align: right;\">\n",
       "      <th></th>\n",
       "      <th>year</th>\n",
       "      <th>births</th>\n",
       "      <th>deaths</th>\n",
       "      <th>clinic</th>\n",
       "    </tr>\n",
       "  </thead>\n",
       "  <tbody>\n",
       "    <tr>\n",
       "      <th>0</th>\n",
       "      <td>1841</td>\n",
       "      <td>3036</td>\n",
       "      <td>237</td>\n",
       "      <td>clinic 1</td>\n",
       "    </tr>\n",
       "    <tr>\n",
       "      <th>1</th>\n",
       "      <td>1842</td>\n",
       "      <td>3287</td>\n",
       "      <td>518</td>\n",
       "      <td>clinic 1</td>\n",
       "    </tr>\n",
       "    <tr>\n",
       "      <th>2</th>\n",
       "      <td>1843</td>\n",
       "      <td>3060</td>\n",
       "      <td>274</td>\n",
       "      <td>clinic 1</td>\n",
       "    </tr>\n",
       "    <tr>\n",
       "      <th>3</th>\n",
       "      <td>1844</td>\n",
       "      <td>3157</td>\n",
       "      <td>260</td>\n",
       "      <td>clinic 1</td>\n",
       "    </tr>\n",
       "    <tr>\n",
       "      <th>4</th>\n",
       "      <td>1845</td>\n",
       "      <td>3492</td>\n",
       "      <td>241</td>\n",
       "      <td>clinic 1</td>\n",
       "    </tr>\n",
       "    <tr>\n",
       "      <th>5</th>\n",
       "      <td>1846</td>\n",
       "      <td>4010</td>\n",
       "      <td>459</td>\n",
       "      <td>clinic 1</td>\n",
       "    </tr>\n",
       "    <tr>\n",
       "      <th>6</th>\n",
       "      <td>1841</td>\n",
       "      <td>2442</td>\n",
       "      <td>86</td>\n",
       "      <td>clinic 2</td>\n",
       "    </tr>\n",
       "    <tr>\n",
       "      <th>7</th>\n",
       "      <td>1842</td>\n",
       "      <td>2659</td>\n",
       "      <td>202</td>\n",
       "      <td>clinic 2</td>\n",
       "    </tr>\n",
       "    <tr>\n",
       "      <th>8</th>\n",
       "      <td>1843</td>\n",
       "      <td>2739</td>\n",
       "      <td>164</td>\n",
       "      <td>clinic 2</td>\n",
       "    </tr>\n",
       "    <tr>\n",
       "      <th>9</th>\n",
       "      <td>1844</td>\n",
       "      <td>2956</td>\n",
       "      <td>68</td>\n",
       "      <td>clinic 2</td>\n",
       "    </tr>\n",
       "    <tr>\n",
       "      <th>10</th>\n",
       "      <td>1845</td>\n",
       "      <td>3241</td>\n",
       "      <td>66</td>\n",
       "      <td>clinic 2</td>\n",
       "    </tr>\n",
       "    <tr>\n",
       "      <th>11</th>\n",
       "      <td>1846</td>\n",
       "      <td>3754</td>\n",
       "      <td>105</td>\n",
       "      <td>clinic 2</td>\n",
       "    </tr>\n",
       "  </tbody>\n",
       "</table>\n",
       "</div>"
      ],
      "text/plain": [
       "    year  births  deaths    clinic\n",
       "0   1841    3036     237  clinic 1\n",
       "1   1842    3287     518  clinic 1\n",
       "2   1843    3060     274  clinic 1\n",
       "3   1844    3157     260  clinic 1\n",
       "4   1845    3492     241  clinic 1\n",
       "5   1846    4010     459  clinic 1\n",
       "6   1841    2442      86  clinic 2\n",
       "7   1842    2659     202  clinic 2\n",
       "8   1843    2739     164  clinic 2\n",
       "9   1844    2956      68  clinic 2\n",
       "10  1845    3241      66  clinic 2\n",
       "11  1846    3754     105  clinic 2"
      ]
     },
     "execution_count": 28,
     "metadata": {},
     "output_type": "execute_result"
    }
   ],
   "source": [
    "df_yearly"
   ]
  },
  {
   "cell_type": "markdown",
   "metadata": {
    "id": "RzhICI3I63d3"
   },
   "source": [
    "### Percentage of Women Dying in Childbirth\n",
    "\n",
    "**Challenge**: How dangerous was childbirth in the 1840s in Vienna? \n",
    "\n",
    "* Using the annual data, calculate the percentage of women giving birth who died throughout the 1840s at the hospital.\n",
    "\n",
    "\n",
    "In comparison, the United States recorded 18.5 maternal deaths per 100,000 or 0.018% in 2013 [(source).](\n",
    "https://en.wikipedia.org/wiki/Maternal_death#:~:text=The%20US%20has%20the%20%22highest,17.8%20per%20100%2C000%20in%202009)"
   ]
  },
  {
   "cell_type": "code",
   "execution_count": 39,
   "metadata": {
    "id": "qWcjo7O5H3g3"
   },
   "outputs": [
    {
     "name": "stdout",
     "output_type": "stream",
     "text": [
      "The percentage of women dying in childbirth in the 1840s was 7.08%.\n"
     ]
    }
   ],
   "source": [
    "print(f\"The percentage of women dying in childbirth in the 1840s was {'{:.2f}%'.format(df_yearly.deaths.sum() / df_yearly.births.sum() * 100)}.\")"
   ]
  },
  {
   "cell_type": "markdown",
   "metadata": {
    "id": "SSOrUkmx63d6"
   },
   "source": [
    "# Visualise the Total Number of Births 🤱 and Deaths 💀 over Time"
   ]
  },
  {
   "cell_type": "markdown",
   "metadata": {
    "id": "z88_SbNf63d6"
   },
   "source": [
    "### Plot the Monthly Data on Twin Axes\n",
    "\n",
    "**Challenge**: Create a [Matplotlib chart](https://matplotlib.org/3.3.2/api/_as_gen/matplotlib.pyplot.plot.html) with twin y-axes. It should look something like this:\n",
    "\n",
    "<img src=https://i.imgur.com/F9DOJxx.png width=700>\n",
    "\n",
    "* Format the x-axis using locators for the years and months (Hint: we did this in the Google Trends notebook)\n",
    "* Set the range on the x-axis so that the chart lines touch the y-axes\n",
    "* Add gridlines\n",
    "* Use `skyblue` and `crimson` for the line colours\n",
    "* Use a dashed line style for the number of deaths\n",
    "* Change the line thickness to 3 and 2 for the births and deaths respectively. \n",
    "* Do you notice anything in the late 1840s?"
   ]
  },
  {
   "cell_type": "code",
   "execution_count": 66,
   "metadata": {
    "id": "pSeMQxKMH52c"
   },
   "outputs": [
    {
     "data": {
      "image/png": "[encoded data removed]",
      "text/plain": [
       "<Figure size 1008x576 with 2 Axes>"
      ]
     },
     "metadata": {
      "needs_background": "light"
     },
     "output_type": "display_data"
    }
   ],
   "source": [
    "plt.figure(figsize=(14,8))\n",
    "plt.xticks(fontsize=14, rotation=45)\n",
    "\n",
    "ax1 = plt.gca()\n",
    "ax2 = ax1.twinx()\n",
    "# format the ticks\n",
    "ax1.xaxis.set_major_locator(years)\n",
    "ax1.xaxis.set_major_formatter(years_fmt)\n",
    "ax1.xaxis.set_minor_locator(months)\n",
    "\n",
    "plt.title(\"Total Number of Monthly Births and Deaths\", fontsize=18)\n",
    "\n",
    "ax1.set_xlim([df_monthly.date.min(), df_monthly.date.max()])\n",
    "ax1.set_ylabel('Births', color='skyblue', fontsize=14)\n",
    "ax2.set_ylabel('Deaths', color='crimson', fontsize=14)\n",
    "\n",
    "ax1.plot(df_monthly.date, df_monthly.births, color='skyblue', linewidth=3)\n",
    "ax2.plot(df_monthly.date, df_monthly.deaths, linestyle='--', color='crimson', linewidth=2)\n",
    "\n",
    "ax1.grid(linestyle='--', color='grey')\n",
    "\n",
    "plt.show()"
   ]
  },
  {
   "cell_type": "markdown",
   "metadata": {
    "id": "G9Zg86loH5a2"
   },
   "source": [
    "What we see is that something happened after 1847. The total number of deaths seems to have dropped, despite an increasing number of births!"
   ]
  },
  {
   "cell_type": "markdown",
   "metadata": {
    "id": "mpg4uvsl63d9"
   },
   "source": [
    "# The Yearly Data Split by Clinic\n",
    "\n",
    "Now let's look at the annual data instead. \n",
    "\n",
    "**Challenge**: Use plotly to create line charts of the births and deaths of the two different clinics at the Vienna General Hospital. \n",
    "* Which clinic is bigger or more busy judging by the number of births?\n",
    "* Has the hospital had more patients over time? \n",
    "* What was the highest number of deaths recorded in clinic 1 and clinic 2?"
   ]
  },
  {
   "cell_type": "code",
   "execution_count": null,
   "metadata": {
    "id": "Xg65zUR8H7c2"
   },
   "outputs": [],
   "source": []
  },
  {
   "cell_type": "code",
   "execution_count": null,
   "metadata": {
    "id": "4aTJqbcVH9MG"
   },
   "outputs": [],
   "source": []
  },
  {
   "cell_type": "markdown",
   "metadata": {
    "dc": {
     "key": "2bc9206960"
    },
    "id": "0M63EmW563eE",
    "run_control": {
     "frozen": true
    },
    "tags": [
     "context"
    ]
   },
   "source": [
    "### Calculate the Proportion of Deaths at Each Clinic"
   ]
  },
  {
   "cell_type": "markdown",
   "metadata": {
    "id": "SWnxkKx963eE"
   },
   "source": [
    "**Challenge**: Calculate the proportion of maternal deaths per clinic. That way we can compare like with like. \n",
    "* Work out the percentage of deaths for each row in the `df_yearly` DataFrame by adding a column called \"pct_deaths\". \n",
    "* Calculate the average maternal death rate for clinic 1 and clinic 2 (i.e., the total number of deaths per the total number of births).\n",
    "* Create another plotly line chart to see how the percentage varies year over year with the two different clinics.\n",
    "* Which clinic has a higher proportion of deaths?\n",
    "* What is the highest monthly death rate in clinic 1 compared to clinic 2?"
   ]
  },
  {
   "cell_type": "code",
   "execution_count": null,
   "metadata": {
    "id": "1His6I9tH-U7"
   },
   "outputs": [],
   "source": []
  },
  {
   "cell_type": "code",
   "execution_count": null,
   "metadata": {
    "id": "qjK489pIH-BF"
   },
   "outputs": [],
   "source": []
  },
  {
   "cell_type": "markdown",
   "metadata": {
    "id": "sX47nwJMRxWR"
   },
   "source": [
    "### Plotting the Proportion of Yearly Deaths by Clinic"
   ]
  },
  {
   "cell_type": "code",
   "execution_count": null,
   "metadata": {
    "id": "gRxQwbovH__L"
   },
   "outputs": [],
   "source": []
  },
  {
   "cell_type": "code",
   "execution_count": null,
   "metadata": {
    "id": "_b2fo2gqH_1n"
   },
   "outputs": [],
   "source": []
  },
  {
   "cell_type": "markdown",
   "metadata": {
    "dc": {
     "key": "518e95acc5"
    },
    "id": "ggep-emG63eX",
    "run_control": {
     "frozen": true
    },
    "tags": [
     "context"
    ]
   },
   "source": [
    "# The Effect of Handwashing\n",
    "\n",
    "Dr Semmelweis made handwashing obligatory in the summer of 1947. In fact, he ordered people to wash their hands with clorine (instead of water)."
   ]
  },
  {
   "cell_type": "code",
   "execution_count": null,
   "metadata": {
    "id": "QFN7gYTD63eX"
   },
   "outputs": [],
   "source": [
    "# Date when handwashing was made mandatory\n",
    "handwashing_start = pd.to_datetime('1847-06-01')"
   ]
  },
  {
   "cell_type": "markdown",
   "metadata": {
    "id": "xzsKlZ8CSNkM"
   },
   "source": [
    "**Challenge**: \n",
    "* Add a column called \"pct_deaths\" to `df_monthly` that has the percentage of deaths per birth for each row. \n",
    "* Create two subsets from the `df_monthly` data: before and after Dr Semmelweis ordered washing hand.\n",
    "* Calculate the average death rate prior to June 1947.\n",
    "* Calculate the average death rate after June 1947."
   ]
  },
  {
   "cell_type": "code",
   "execution_count": null,
   "metadata": {
    "id": "Zv47y222ICFE"
   },
   "outputs": [],
   "source": []
  },
  {
   "cell_type": "code",
   "execution_count": null,
   "metadata": {
    "id": "uwVulybHIBk_"
   },
   "outputs": [],
   "source": []
  },
  {
   "cell_type": "markdown",
   "metadata": {
    "id": "BgX_WAt0rcmf"
   },
   "source": [
    "### Calculate a Rolling Average of the Death Rate"
   ]
  },
  {
   "cell_type": "markdown",
   "metadata": {
    "id": "q8oeZj6kpZFl"
   },
   "source": [
    "**Challenge**: Create a DataFrame that has the 6 month rolling average death rate prior to mandatory handwashing.\n",
    "\n",
    "*Hint*: You'll need to set the dates as the index in order to avoid the date column being dropped during the calculation."
   ]
  },
  {
   "cell_type": "code",
   "execution_count": null,
   "metadata": {
    "id": "xh5skyLJIGJF"
   },
   "outputs": [],
   "source": []
  },
  {
   "cell_type": "code",
   "execution_count": null,
   "metadata": {
    "id": "KImHv9CuIEDQ"
   },
   "outputs": [],
   "source": []
  },
  {
   "cell_type": "markdown",
   "metadata": {
    "id": "nLoDpnv8SzQH"
   },
   "source": [
    "### Highlighting Subsections of a Line Chart\n",
    "\n",
    "**Challenge**: Copy-paste and then modify the Matplotlib chart from before to plot the monthly death rates (instead of the total number of births and deaths). The chart should look something like this:\n",
    "\n",
    "<img src=https://i.imgur.com/X6TQe0R.png width=500>\n",
    "\n",
    "* Add 3 seperate lines to the plot: the death rate before handwashing, after handwashing, and the 6-month moving average before handwashing.\n",
    "* Show the monthly death rate before handwashing as a thin dashed black line. \n",
    "* Show the moving average as a thicker, crimon line.\n",
    "* Show the rate after handwashing as a skyblue line with round markers. \n",
    "* Look at the [code snippet in the documentation to see how you can add a legend](https://matplotlib.org/3.1.1/api/_as_gen/matplotlib.pyplot.legend.html) to the chart."
   ]
  },
  {
   "cell_type": "code",
   "execution_count": null,
   "metadata": {
    "id": "XPHokmgTIG32"
   },
   "outputs": [],
   "source": []
  },
  {
   "cell_type": "markdown",
   "metadata": {
    "dc": {
     "key": "586a9f9803"
    },
    "id": "FPiDMwTh63el",
    "run_control": {
     "frozen": true
    },
    "tags": [
     "context"
    ]
   },
   "source": [
    "### Statistics - Calculate the Difference in the Average Monthly Death Rate\n",
    "\n",
    "**Challenge**:\n",
    "* What was the average percentage of monthly deaths before handwashing? \n",
    "* What was the average percentage of monthly deaths after handwashing was made obligatory?\n",
    "* By how much did handwashing reduce the average chance of dying in childbirth in percentage terms?\n",
    "* How do these numbers compare to the average for all the 1840s that we calculated earlier? \n",
    "* How many times lower are the chances of dying after handwashing compared to before?"
   ]
  },
  {
   "cell_type": "code",
   "execution_count": null,
   "metadata": {
    "id": "HJMSk8xYIIGX"
   },
   "outputs": [],
   "source": []
  },
  {
   "cell_type": "markdown",
   "metadata": {
    "id": "oqBw_uL963eh"
   },
   "source": [
    "### Use Box Plots to Show How the Death Rate Changed Before and After Handwashing\n",
    "\n",
    "**Challenge**: \n",
    "* Use [NumPy's `.where()` function](https://numpy.org/doc/stable/reference/generated/numpy.where.html) to add a column to `df_monthly` that shows if a particular date was before or after the start of handwashing. \n",
    "* Then use plotly to create box plot of the data before and after handwashing. \n",
    "* How did key statistics like the mean, max, min, 1st and 3rd quartile changed as a result of the new policy?\n",
    "\n"
   ]
  },
  {
   "cell_type": "code",
   "execution_count": null,
   "metadata": {
    "id": "RVqz63Y9IJXg"
   },
   "outputs": [],
   "source": []
  },
  {
   "cell_type": "code",
   "execution_count": null,
   "metadata": {
    "id": "etNOMby-ILkv"
   },
   "outputs": [],
   "source": []
  },
  {
   "cell_type": "markdown",
   "metadata": {
    "id": "7CPfSdgt63en"
   },
   "source": [
    "### Use Histograms to Visualise the Monthly Distribution of Outcomes\n",
    "\n",
    "**Challenge**: Create a [plotly histogram](https://plotly.com/python/histograms/) to show the monthly percentage of deaths. \n",
    "\n",
    "* Use docs to check out the available parameters. Use the [`color` parameter](https://plotly.github.io/plotly.py-docs/generated/plotly.express.histogram.html) to display two overlapping histograms.\n",
    "* The time period of handwashing is shorter than not handwashing. Change `histnorm` to `percent` to make the time periods comparable. \n",
    "* Make the histograms slighlty transparent\n",
    "* Experiment with the number of bins on the histogram. Which number work well in communicating the range of outcomes?\n",
    "* Just for fun, display your box plot on the top of the histogram using the `marginal` parameter. "
   ]
  },
  {
   "cell_type": "code",
   "execution_count": null,
   "metadata": {
    "id": "mgRoUP7NIMU9"
   },
   "outputs": [],
   "source": []
  },
  {
   "cell_type": "code",
   "execution_count": null,
   "metadata": {
    "id": "ZUmW8ES5IMhZ"
   },
   "outputs": [],
   "source": []
  },
  {
   "cell_type": "markdown",
   "metadata": {
    "id": "6xEmXJWM63ep"
   },
   "source": [
    "### Use a Kernel Density Estimate (KDE) to visualise a smooth distribution\n",
    "\n",
    "**Challenge**: Use [Seaborn's `.kdeplot()`](https://seaborn.pydata.org/generated/seaborn.kdeplot.html) to create two kernel density estimates of the `pct_deaths`, one for before handwashing and one for after. \n",
    "\n",
    "* Use the `shade` parameter to give your two distributions different colours. \n",
    "* What weakness in the chart do you see when you just use the default parameters?\n",
    "* Use the `clip` parameter to address the problem. \n"
   ]
  },
  {
   "cell_type": "code",
   "execution_count": null,
   "metadata": {
    "id": "MKxD_c_cINxx"
   },
   "outputs": [],
   "source": []
  },
  {
   "cell_type": "code",
   "execution_count": null,
   "metadata": {
    "id": "yV8gUkLuINmX"
   },
   "outputs": [],
   "source": []
  },
  {
   "cell_type": "markdown",
   "metadata": {
    "id": "F7lNXT7X63et"
   },
   "source": [
    "### Use a T-Test to Show Statistical Significance\n",
    "\n",
    "**Challenge**: Use a t-test to determine if the differences in the means are statistically significant or purely due to chance. \n",
    "\n",
    "If the p-value is less than 1% then we can be 99% certain that handwashing has made a difference to the average monthly death rate. \n",
    "\n",
    "* Import `stats` from scipy\n",
    "* Use the [`.ttest_ind()` function](https://docs.scipy.org/]doc/scipy/reference/generated/scipy.stats.ttest_ind.html) to calculate the t-statistic and the p-value\n",
    "* Is the difference in the average proportion of monthly deaths statistically significant at the 99% level? \n",
    "\n"
   ]
  },
  {
   "cell_type": "code",
   "execution_count": null,
   "metadata": {
    "id": "3gG5RDz_IQLJ"
   },
   "outputs": [],
   "source": []
  },
  {
   "cell_type": "code",
   "execution_count": null,
   "metadata": {
    "id": "KQbDwe_GIP_G"
   },
   "outputs": [],
   "source": []
  },
  {
   "cell_type": "markdown",
   "metadata": {
    "id": "ljuC4qkz6BbA"
   },
   "source": [
    "What do you conclude from your analysis, Doctor? 😊\n",
    "\n",
    "<img src=https://i.imgur.com/rvjNVzQ.gif>"
   ]
  },
  {
   "cell_type": "code",
   "execution_count": null,
   "metadata": {
    "id": "3qNGdccG6D34"
   },
   "outputs": [],
   "source": []
  }
 ],
 "metadata": {
  "colab": {
   "name": "Dr Semmelweis Handwashing Discovery (start).ipynb",
   "provenance": [],
   "toc_visible": true
  },
  "kernelspec": {
   "display_name": "Python 3",
   "language": "python",
   "name": "python3"
  },
  "language_info": {
   "codemirror_mode": {
    "name": "ipython",
    "version": 3
   },
   "file_extension": ".py",
   "mimetype": "text/x-python",
   "name": "python",
   "nbconvert_exporter": "python",
   "pygments_lexer": "ipython3",
   "version": "3.8.3"
  }
 },
 "nbformat": 4,
 "nbformat_minor": 1
}
